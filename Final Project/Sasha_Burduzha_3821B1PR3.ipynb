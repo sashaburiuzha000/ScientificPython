{
 "cells": [
  {
   "cell_type": "code",
   "execution_count": 4,
   "id": "456b4e80",
   "metadata": {},
   "outputs": [
    {
     "name": "stdout",
     "output_type": "stream",
     "text": [
      "Requirement already satisfied: matplotlib in c:\\users\\user\\appdata\\local\\programs\\python\\python37\\lib\\site-packages (3.5.1)\n",
      "Requirement already satisfied: fonttools>=4.22.0 in c:\\users\\user\\appdata\\local\\programs\\python\\python37\\lib\\site-packages (from matplotlib) (4.33.3)\n",
      "Requirement already satisfied: pyparsing>=2.2.1 in c:\\users\\user\\appdata\\local\\programs\\python\\python37\\lib\\site-packages (from matplotlib) (3.0.8)\n",
      "Requirement already satisfied: python-dateutil>=2.7 in c:\\users\\user\\appdata\\local\\programs\\python\\python37\\lib\\site-packages (from matplotlib) (2.8.2)\n",
      "Requirement already satisfied: packaging>=20.0 in c:\\users\\user\\appdata\\local\\programs\\python\\python37\\lib\\site-packages (from matplotlib) (21.3)\n",
      "Requirement already satisfied: pillow>=6.2.0 in c:\\users\\user\\appdata\\local\\programs\\python\\python37\\lib\\site-packages (from matplotlib) (8.3.1)\n",
      "Requirement already satisfied: cycler>=0.10 in c:\\users\\user\\appdata\\local\\programs\\python\\python37\\lib\\site-packages (from matplotlib) (0.11.0)\n",
      "Requirement already satisfied: kiwisolver>=1.0.1 in c:\\users\\user\\appdata\\local\\programs\\python\\python37\\lib\\site-packages (from matplotlib) (1.4.2)\n",
      "Requirement already satisfied: numpy>=1.17 in c:\\users\\user\\appdata\\local\\programs\\python\\python37\\lib\\site-packages (from matplotlib) (1.21.6)\n",
      "Requirement already satisfied: typing-extensions in c:\\users\\user\\appdata\\local\\programs\\python\\python37\\lib\\site-packages (from kiwisolver>=1.0.1->matplotlib) (4.2.0)\n",
      "Requirement already satisfied: six>=1.5 in c:\\users\\user\\appdata\\local\\programs\\python\\python37\\lib\\site-packages (from python-dateutil>=2.7->matplotlib) (1.16.0)\n"
     ]
    },
    {
     "name": "stderr",
     "output_type": "stream",
     "text": [
      "WARNING: You are using pip version 21.2.4; however, version 22.0.4 is available.\n",
      "You should consider upgrading via the 'c:\\users\\user\\appdata\\local\\programs\\python\\python37\\python.exe -m pip install --upgrade pip' command.\n"
     ]
    }
   ],
   "source": [
    "!pip install matplotlib"
   ]
  },
  {
   "cell_type": "code",
   "execution_count": 18,
   "id": "dd066a80",
   "metadata": {},
   "outputs": [],
   "source": [
    "import numpy as np\n",
    "import matplotlib.pyplot as plt\n",
    "%matplotlib inline\n",
    "from scipy import linalg\n",
    "from scipy import interpolate"
   ]
  },
  {
   "cell_type": "markdown",
   "id": "026bc4ce",
   "metadata": {},
   "source": [
    "<br>Представим начальные данные след. образом:"
   ]
  },
  {
   "cell_type": "code",
   "execution_count": 19,
   "id": "e65e507b",
   "metadata": {},
   "outputs": [],
   "source": [
    "v = np.array([0, 10, 20, 30, 40, 50, 60])\n",
    "d = np.array([0, 5.0, 20, 46, 70, 102, 153])"
   ]
  },
  {
   "cell_type": "markdown",
   "id": "023c8749",
   "metadata": {},
   "source": [
    "<br> Построим график кусочно-<b>линейной</b> функции и найдем максимальную доступную скорость:"
   ]
  },
  {
   "cell_type": "code",
   "execution_count": 20,
   "id": "6ffb3d21",
   "metadata": {},
   "outputs": [
    {
     "data": {
      "text/plain": [
       "array(35.83333333)"
      ]
     },
     "execution_count": 20,
     "metadata": {},
     "output_type": "execute_result"
    }
   ],
   "source": [
    "h = interpolate.interp1d(d, v, kind = 'linear')\n",
    "h(60)"
   ]
  },
  {
   "cell_type": "code",
   "execution_count": 21,
   "id": "6a022373",
   "metadata": {},
   "outputs": [
    {
     "name": "stderr",
     "output_type": "stream",
     "text": [
      "c:\\users\\user\\appdata\\local\\programs\\python\\python37\\lib\\site-packages\\ipykernel_launcher.py:4: UserWarning: color is redundantly defined by the 'color' keyword argument and the fmt string \"or\" (-> color='r'). The keyword argument will take precedence.\n",
      "  after removing the cwd from sys.path.\n"
     ]
    },
    {
     "data": {
      "image/png": "[encoded data removed]",
      "text/plain": [
       "<Figure size 432x288 with 1 Axes>"
      ]
     },
     "metadata": {
      "needs_background": "light"
     },
     "output_type": "display_data"
    }
   ],
   "source": [
    "dd = np.linspace(0, 150, 500)\n",
    "vv = h(dd)\n",
    "plt.plot(dd, vv, color = 'tab:blue')\n",
    "plt.plot(d, v, 'or', color = 'tab:orange')\n",
    "pass"
   ]
  },
  {
   "cell_type": "markdown",
   "id": "56142c08",
   "metadata": {},
   "source": [
    "<br>Теперь построим график для кусочно-<b>кубической</b> интерполяции:"
   ]
  },
  {
   "cell_type": "code",
   "execution_count": 22,
   "id": "f754c604",
   "metadata": {},
   "outputs": [
    {
     "name": "stderr",
     "output_type": "stream",
     "text": [
      "c:\\users\\user\\appdata\\local\\programs\\python\\python37\\lib\\site-packages\\ipykernel_launcher.py:5: UserWarning: color is redundantly defined by the 'color' keyword argument and the fmt string \"or\" (-> color='r'). The keyword argument will take precedence.\n",
      "  \"\"\"\n"
     ]
    },
    {
     "data": {
      "image/png": "[encoded data removed]",
      "text/plain": [
       "<Figure size 432x288 with 1 Axes>"
      ]
     },
     "metadata": {
      "needs_background": "light"
     },
     "output_type": "display_data"
    }
   ],
   "source": [
    "f = interpolate.interp1d(d, v, kind = 'cubic')\n",
    "dd = np.linspace(0, 150, 500)\n",
    "vv = f(dd)\n",
    "plt.plot(dd, vv, color = 'tab:blue')\n",
    "plt.plot(d, v, 'or', color = 'tab:orange')\n",
    "pass"
   ]
  },
  {
   "cell_type": "markdown",
   "id": "8e024ddd",
   "metadata": {},
   "source": [
    "<br>Теперь надо вычислить значение в требуемой точке:"
   ]
  },
  {
   "cell_type": "code",
   "execution_count": 23,
   "id": "5c8f05bc",
   "metadata": {},
   "outputs": [
    {
     "data": {
      "text/plain": [
       "array(36.00342639)"
      ]
     },
     "execution_count": 23,
     "metadata": {},
     "output_type": "execute_result"
    }
   ],
   "source": [
    "f(60)"
   ]
  },
  {
   "cell_type": "markdown",
   "id": "c16c1e9b",
   "metadata": {},
   "source": [
    "<br>То есть, методом <b>кубической</b> интерполяции мы выяснили, что для выполнения данного условия скорость должна быть не меньше 36.003.<br>Найдем для функции интерполяционный многочлен и вычислим с его помощью <b>искомое значение</b>"
   ]
  },
  {
   "cell_type": "code",
   "execution_count": 24,
   "id": "f4bc9f4e",
   "metadata": {},
   "outputs": [
    {
     "name": "stdout",
     "output_type": "stream",
     "text": [
      "[-9.09170761e-10  3.71982217e-07 -5.69439974e-05  4.10077119e-03\n",
      " -1.43048892e-01  2.61961353e+00 -3.43756686e-13]\n"
     ]
    }
   ],
   "source": [
    "f = np.polyfit(d, v, 6)\n",
    "print(f)"
   ]
  },
  {
   "cell_type": "code",
   "execution_count": 25,
   "id": "df479f4f",
   "metadata": {},
   "outputs": [
    {
     "data": {
      "text/plain": [
       "36.80827351484006"
      ]
     },
     "execution_count": 25,
     "metadata": {},
     "output_type": "execute_result"
    }
   ],
   "source": [
    "np.polyval(f, 60)"
   ]
  },
  {
   "cell_type": "markdown",
   "id": "46c7c239",
   "metadata": {},
   "source": [
    "<br>С помощью <b>интерполяционнго многочлена</b>, мы получили более возможное значение скорости: 36.808. <br>График интерполяционного многочлена:"
   ]
  },
  {
   "cell_type": "code",
   "execution_count": 26,
   "id": "00fd25d2",
   "metadata": {},
   "outputs": [
    {
     "data": {
      "image/png": "[encoded data removed]",
      "text/plain": [
       "<Figure size 432x288 with 1 Axes>"
      ]
     },
     "metadata": {
      "needs_background": "light"
     },
     "output_type": "display_data"
    }
   ],
   "source": [
    "dd = np.linspace(0, 159, 50)\n",
    "plt.plot(dd, np.polyval(f, dd))\n",
    "plt.plot(d, v, 'o')\n",
    "pass"
   ]
  },
  {
   "cell_type": "markdown",
   "id": "9368f710",
   "metadata": {},
   "source": [
    "<br>Наблюдаем сильный скачек на одном из данных промежутков, который далек от истины.<br>Найдем требуемую величину с помощью <b>обратной кубической интерполяции.</b>"
   ]
  },
  {
   "cell_type": "code",
   "execution_count": 27,
   "id": "20566e46",
   "metadata": {},
   "outputs": [
    {
     "name": "stderr",
     "output_type": "stream",
     "text": [
      "c:\\users\\user\\appdata\\local\\programs\\python\\python37\\lib\\site-packages\\ipykernel_launcher.py:5: UserWarning: color is redundantly defined by the 'color' keyword argument and the fmt string \"or\" (-> color='r'). The keyword argument will take precedence.\n",
      "  \"\"\"\n"
     ]
    },
    {
     "data": {
      "image/png": "[encoded data removed]",
      "text/plain": [
       "<Figure size 432x288 with 1 Axes>"
      ]
     },
     "metadata": {
      "needs_background": "light"
     },
     "output_type": "display_data"
    }
   ],
   "source": [
    "u= interpolate.interp1d(v, d, kind = 'cubic')\n",
    "vv = np.linspace(0, 60, 500)\n",
    "dd = u(vv)\n",
    "plt.plot(vv, dd, color = 'tab:green')\n",
    "plt.plot(v, d, 'or', color = 'tab:orange')\n",
    "pass"
   ]
  },
  {
   "cell_type": "markdown",
   "id": "da7c5ae6",
   "metadata": {},
   "source": [
    "<br>Далее сравним результаты <b>прямой</b> и <b>обратной кубической</b> интерполяции:"
   ]
  },
  {
   "cell_type": "code",
   "execution_count": 28,
   "id": "7d107c29",
   "metadata": {},
   "outputs": [
    {
     "data": {
      "text/plain": [
       "array(60.32398532)"
      ]
     },
     "execution_count": 28,
     "metadata": {},
     "output_type": "execute_result"
    }
   ],
   "source": [
    "u(36.00342639)"
   ]
  },
  {
   "cell_type": "markdown",
   "id": "def5fa77",
   "metadata": {},
   "source": [
    "<br>Получим результат примерно на 0.3 больше требуемого значения.<br>Подставим результат, полученный интерполяционным многочленом:"
   ]
  },
  {
   "cell_type": "code",
   "execution_count": 29,
   "id": "449a4309",
   "metadata": {},
   "outputs": [
    {
     "data": {
      "text/plain": [
       "array(62.20781598)"
      ]
     },
     "execution_count": 29,
     "metadata": {},
     "output_type": "execute_result"
    }
   ],
   "source": [
    "u(36.808273514842234)"
   ]
  },
  {
   "cell_type": "markdown",
   "id": "4d2c8865",
   "metadata": {},
   "source": [
    "<br>И тут мы получаем разницу заметно больше, на 2 единицы скорости...<br>\n",
    "<h1>Вывод:</h1>\n",
    "<br>\n",
    "<div>\n",
    "    <ol>\n",
    "        <li>Пользуясь различными методами интерполяции, получаем не одинаковые значения;</li>\n",
    "        <li>Интерполяционный многочлен удобен в применении, но при высоком значении степени некоторые точки осциллируют, тем самым понижая точность вычислений;</li>\n",
    "        <li>Наиболее точным оказался метод кубической интерполяции. Он наиболее плавен и близок к реальным знчениям начальных данных;</li>\n",
    "    </ol>\n",
    "</div>"
   ]
  }
 ],
 "metadata": {
  "kernelspec": {
   "display_name": "Python 3 (ipykernel)",
   "language": "python",
   "name": "python3"
  },
  "language_info": {
   "codemirror_mode": {
    "name": "ipython",
    "version": 3
   },
   "file_extension": ".py",
   "mimetype": "text/x-python",
   "name": "python",
   "nbconvert_exporter": "python",
   "pygments_lexer": "ipython3",
   "version": "3.7.0"
  }
 },
 "nbformat": 4,
 "nbformat_minor": 5
}
